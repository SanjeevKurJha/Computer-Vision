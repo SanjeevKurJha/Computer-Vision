{
 "cells": [
  {
   "cell_type": "code",
   "execution_count": 1,
   "metadata": {},
   "outputs": [
    {
     "name": "stderr",
     "output_type": "stream",
     "text": [
      "Using TensorFlow backend.\n"
     ]
    }
   ],
   "source": [
    "from keras.models import Sequential\n",
    "from keras.layers import Conv2D, ZeroPadding2D, Activation, Input, concatenate\n",
    "from keras.models import Model\n",
    "from keras.layers.normalization import BatchNormalization\n",
    "from keras.layers.pooling import MaxPooling2D, AveragePooling2D\n",
    "from keras.layers.merge import Concatenate\n",
    "from keras.layers.core import Lambda, Flatten, Dense\n",
    "from keras.initializers import glorot_uniform\n",
    "from keras.engine.topology import Layer\n",
    "from keras import backend as K\n",
    "K.set_image_data_format('channels_first')\n",
    "import cv2\n",
    "import os\n",
    "import numpy as np\n",
    "from numpy import genfromtxt\n",
    "import pandas as pd\n",
    "import tensorflow as tf\n",
    "from facerec_utils import *\n",
    "from inception_blocks_v2 import *\n",
    "import pyttsx3\n",
    "%matplotlib inline\n",
    "%load_ext autoreload\n",
    "%autoreload 2\n",
    "\n",
    "np.set_printoptions(threshold=np.inf)"
   ]
  },
  {
   "cell_type": "code",
   "execution_count": 2,
   "metadata": {},
   "outputs": [
    {
     "name": "stdout",
     "output_type": "stream",
     "text": [
      "WARNING:tensorflow:From C:\\Users\\Sanjeev\\Anaconda3\\envs\\convo\\lib\\site-packages\\keras\\backend\\tensorflow_backend.py:74: The name tf.get_default_graph is deprecated. Please use tf.compat.v1.get_default_graph instead.\n",
      "\n",
      "WARNING:tensorflow:From C:\\Users\\Sanjeev\\Anaconda3\\envs\\convo\\lib\\site-packages\\keras\\backend\\tensorflow_backend.py:517: The name tf.placeholder is deprecated. Please use tf.compat.v1.placeholder instead.\n",
      "\n",
      "WARNING:tensorflow:From C:\\Users\\Sanjeev\\Anaconda3\\envs\\convo\\lib\\site-packages\\keras\\backend\\tensorflow_backend.py:4138: The name tf.random_uniform is deprecated. Please use tf.random.uniform instead.\n",
      "\n",
      "WARNING:tensorflow:From C:\\Users\\Sanjeev\\Anaconda3\\envs\\convo\\lib\\site-packages\\keras\\backend\\tensorflow_backend.py:174: The name tf.get_default_session is deprecated. Please use tf.compat.v1.get_default_session instead.\n",
      "\n",
      "WARNING:tensorflow:From C:\\Users\\Sanjeev\\Anaconda3\\envs\\convo\\lib\\site-packages\\keras\\backend\\tensorflow_backend.py:181: The name tf.ConfigProto is deprecated. Please use tf.compat.v1.ConfigProto instead.\n",
      "\n",
      "WARNING:tensorflow:From C:\\Users\\Sanjeev\\Anaconda3\\envs\\convo\\lib\\site-packages\\keras\\backend\\tensorflow_backend.py:186: The name tf.Session is deprecated. Please use tf.compat.v1.Session instead.\n",
      "\n",
      "WARNING:tensorflow:From C:\\Users\\Sanjeev\\Anaconda3\\envs\\convo\\lib\\site-packages\\keras\\backend\\tensorflow_backend.py:190: The name tf.global_variables is deprecated. Please use tf.compat.v1.global_variables instead.\n",
      "\n",
      "WARNING:tensorflow:From C:\\Users\\Sanjeev\\Anaconda3\\envs\\convo\\lib\\site-packages\\keras\\backend\\tensorflow_backend.py:199: The name tf.is_variable_initialized is deprecated. Please use tf.compat.v1.is_variable_initialized instead.\n",
      "\n",
      "WARNING:tensorflow:From C:\\Users\\Sanjeev\\Anaconda3\\envs\\convo\\lib\\site-packages\\keras\\backend\\tensorflow_backend.py:206: The name tf.variables_initializer is deprecated. Please use tf.compat.v1.variables_initializer instead.\n",
      "\n",
      "WARNING:tensorflow:From C:\\Users\\Sanjeev\\Anaconda3\\envs\\convo\\lib\\site-packages\\keras\\backend\\tensorflow_backend.py:133: The name tf.placeholder_with_default is deprecated. Please use tf.compat.v1.placeholder_with_default instead.\n",
      "\n",
      "WARNING:tensorflow:From C:\\Users\\Sanjeev\\Anaconda3\\envs\\convo\\lib\\site-packages\\keras\\backend\\tensorflow_backend.py:3976: The name tf.nn.max_pool is deprecated. Please use tf.nn.max_pool2d instead.\n",
      "\n",
      "WARNING:tensorflow:From C:\\Users\\Sanjeev\\Anaconda3\\envs\\convo\\lib\\site-packages\\keras\\backend\\tensorflow_backend.py:3980: The name tf.nn.avg_pool is deprecated. Please use tf.nn.avg_pool2d instead.\n",
      "\n"
     ]
    }
   ],
   "source": [
    "face_recog_model = faceRecoModel(input_shape=(3, 96, 96))"
   ]
  },
  {
   "cell_type": "code",
   "execution_count": 3,
   "metadata": {},
   "outputs": [
    {
     "name": "stdout",
     "output_type": "stream",
     "text": [
      "Total Params: 3743280\n"
     ]
    }
   ],
   "source": [
    "print(\"Total Params:\", face_recog_model.count_params())"
   ]
  },
  {
   "cell_type": "code",
   "execution_count": 4,
   "metadata": {},
   "outputs": [],
   "source": [
    "def triplet_loss(y_true, y_pred, alpha = 0.2):\n",
    "   \n",
    "    anchor, positive, negative = y_pred[0], y_pred[1], y_pred[2]\n",
    "    \n",
    "    # Step 1: Compute the (encoding) distance between the anchor and the positive\n",
    "    pos_dist = tf.reduce_sum(tf.square(anchor - positive), axis=-1)\n",
    "    # Step 2: Compute the (encoding) distance between the anchor and the negative, you will need to sum over axis=-1\n",
    "    neg_dist = tf.reduce_sum(tf.square(anchor - negative), axis=-1)\n",
    "    # Step 3: subtract the two previous distances and add alpha.\n",
    "    basic_loss = pos_dist - neg_dist + alpha\n",
    "    # Step 4: Take the maximum of basic_loss and 0.0. Sum over the training examples.\n",
    "    loss = tf.reduce_sum(tf.maximum(basic_loss, 0.0))\n",
    "    \n",
    "    return loss"
   ]
  },
  {
   "cell_type": "code",
   "execution_count": 5,
   "metadata": {},
   "outputs": [],
   "source": [
    "def onStart(): \n",
    "    print('starting') \n",
    "\n",
    "def onWord(name, location, length): \n",
    "    print('word', name, location, length) \n",
    "\n",
    "def onEnd(name, completed): \n",
    "    print('finishing', name, completed)\n",
    "engine = pyttsx3.init()"
   ]
  },
  {
   "cell_type": "code",
   "execution_count": 6,
   "metadata": {},
   "outputs": [
    {
     "name": "stdout",
     "output_type": "stream",
     "text": [
      "loss = 528.14307\n"
     ]
    }
   ],
   "source": [
    "with tf.Session() as test:\n",
    "    tf.set_random_seed(1)\n",
    "    y_true = (None, None, None)\n",
    "    y_pred = (tf.random_normal([3, 128], mean=6, stddev=0.1, seed = 1),\n",
    "              tf.random_normal([3, 128], mean=1, stddev=1, seed = 1),\n",
    "              tf.random_normal([3, 128], mean=3, stddev=4, seed = 1))\n",
    "    loss = triplet_loss(y_true, y_pred)\n",
    "    \n",
    "    print(\"loss = \" + str(loss.eval()))"
   ]
  },
  {
   "cell_type": "markdown",
   "metadata": {},
   "source": [
    "##  Loading the pre-trained model\n"
   ]
  },
  {
   "cell_type": "code",
   "execution_count": 7,
   "metadata": {},
   "outputs": [
    {
     "name": "stdout",
     "output_type": "stream",
     "text": [
      "WARNING:tensorflow:From C:\\Users\\Sanjeev\\Anaconda3\\envs\\convo\\lib\\site-packages\\keras\\optimizers.py:790: The name tf.train.Optimizer is deprecated. Please use tf.compat.v1.train.Optimizer instead.\n",
      "\n"
     ]
    }
   ],
   "source": [
    "face_recog_model.compile(optimizer = 'adam', loss = triplet_loss, metrics = ['accuracy'])\n",
    "load_weights_from_FaceNet(face_recog_model)"
   ]
  },
  {
   "cell_type": "markdown",
   "metadata": {},
   "source": [
    "## Applying the model"
   ]
  },
  {
   "cell_type": "code",
   "execution_count": 26,
   "metadata": {},
   "outputs": [],
   "source": [
    "database = {}\n",
    "database[\"sanjeev\"] = img_to_encoding(\"images/sanjeev.jpg\", face_recog_model)\n",
    "database[\"aishwarya rai\"] = img_to_encoding(\"images/aishwarya rai.jpg\", face_recog_model)\n",
    "database[\"a r rahman\"] = img_to_encoding(\"images/a r rahman.jpg\", face_recog_model)"
   ]
  },
  {
   "cell_type": "code",
   "execution_count": 27,
   "metadata": {},
   "outputs": [],
   "source": [
    "def verify(image_path, identity, database, model):\n",
    "   \n",
    "    # Step 1: Compute the encoding for the image. Use img_to_encoding() see example above. (≈ 1 line)\n",
    "    encoding = img_to_encoding(image_path, model)\n",
    "    \n",
    "    # Step 2: Compute distance with identity's image (≈ 1 line)\n",
    "    dist = np.linalg.norm(encoding - database[identity])\n",
    "    \n",
    "    # Step 3: Open the door if dist < 0.7, else don't open (≈ 3 lines)\n",
    "    if dist < 0.95:\n",
    "        print(\"It's \" + str(identity) + \", welcome home!\")\n",
    "        engine.connect('started-utterance', onStart) \n",
    "        engine.connect('started-word', onWord) \n",
    "        engine.connect('finished-utterance', onEnd) \n",
    "        sen = \"Welcome back home\"+ str(identity);\n",
    "        engine.say(sen)\n",
    "        engine.runAndWait() \n",
    "        door_open = True\n",
    "    else:\n",
    "        print(\"It's not \" + str(identity) + \", please go away\")\n",
    "        engine.connect('started-utterance', onStart) \n",
    "        engine.connect('started-word', onWord) \n",
    "        engine.connect('finished-utterance', onEnd) \n",
    "        sen = \"It's not\"+ str(identity +\", please go away\");\n",
    "        engine.say(sen)\n",
    "        engine.runAndWait()\n",
    "        door_open = False\n",
    "        \n",
    "    return dist, door_open"
   ]
  },
  {
   "cell_type": "code",
   "execution_count": 28,
   "metadata": {},
   "outputs": [
    {
     "name": "stdout",
     "output_type": "stream",
     "text": [
      "It's aishwarya rai, welcome home!\n",
      "word None 0 7\n",
      "word None 0 7\n",
      "word None 0 7\n",
      "word None 0 7\n",
      "word None 0 7\n",
      "word None 0 7\n",
      "word None 0 7\n",
      "word None 0 7\n",
      "word None 0 7\n",
      "word None 0 7\n",
      "word None 0 7\n",
      "word None 0 7\n",
      "word None 0 7\n",
      "word None 8 4\n",
      "word None 8 4\n",
      "word None 8 4\n",
      "word None 8 4\n",
      "word None 8 4\n",
      "word None 8 4\n",
      "word None 8 4\n",
      "word None 8 4\n",
      "word None 8 4\n",
      "word None 8 4\n",
      "word None 8 4\n",
      "word None 8 4\n",
      "word None 8 4\n",
      "word None 13 13\n",
      "word None 13 13\n",
      "word None 13 13\n",
      "word None 13 13\n",
      "word None 13 13\n",
      "word None 13 13\n",
      "word None 13 13\n",
      "word None 13 13\n",
      "word None 13 13\n",
      "word None 13 13\n",
      "word None 13 13\n",
      "word None 13 13\n",
      "word None 13 13\n",
      "word None 27 3\n",
      "word None 27 3\n",
      "word None 27 3\n",
      "word None 27 3\n",
      "word None 27 3\n",
      "word None 27 3\n",
      "word None 27 3\n",
      "word None 27 3\n",
      "word None 27 3\n",
      "word None 27 3\n",
      "word None 27 3\n",
      "word None 27 3\n",
      "word None 27 3\n",
      "finishing None True\n",
      "finishing None True\n",
      "finishing None True\n",
      "finishing None True\n",
      "finishing None True\n",
      "finishing None True\n",
      "finishing None True\n",
      "finishing None True\n",
      "finishing None True\n",
      "finishing None True\n",
      "finishing None True\n",
      "finishing None True\n",
      "finishing None True\n"
     ]
    },
    {
     "data": {
      "text/plain": [
       "(0.41985664, True)"
      ]
     },
     "execution_count": 28,
     "metadata": {},
     "output_type": "execute_result"
    }
   ],
   "source": [
    "verify(\"images/ex1.jpg\", \"aishwarya rai\", database, face_recog_model)"
   ]
  },
  {
   "cell_type": "code",
   "execution_count": 29,
   "metadata": {},
   "outputs": [
    {
     "name": "stdout",
     "output_type": "stream",
     "text": [
      "It's a r rahman, welcome home!\n",
      "word None 0 7\n",
      "word None 0 7\n",
      "word None 0 7\n",
      "word None 0 7\n",
      "word None 0 7\n",
      "word None 0 7\n",
      "word None 0 7\n",
      "word None 0 7\n",
      "word None 0 7\n",
      "word None 0 7\n",
      "word None 0 7\n",
      "word None 0 7\n",
      "word None 0 7\n",
      "word None 0 7\n",
      "word None 8 4\n",
      "word None 8 4\n",
      "word None 8 4\n",
      "word None 8 4\n",
      "word None 8 4\n",
      "word None 8 4\n",
      "word None 8 4\n",
      "word None 8 4\n",
      "word None 8 4\n",
      "word None 8 4\n",
      "word None 8 4\n",
      "word None 8 4\n",
      "word None 8 4\n",
      "word None 8 4\n",
      "word None 13 5\n",
      "word None 13 5\n",
      "word None 13 5\n",
      "word None 13 5\n",
      "word None 13 5\n",
      "word None 13 5\n",
      "word None 13 5\n",
      "word None 13 5\n",
      "word None 13 5\n",
      "word None 13 5\n",
      "word None 13 5\n",
      "word None 13 5\n",
      "word None 13 5\n",
      "word None 13 5\n",
      "word None 19 1\n",
      "word None 19 1\n",
      "word None 19 1\n",
      "word None 19 1\n",
      "word None 19 1\n",
      "word None 19 1\n",
      "word None 19 1\n",
      "word None 19 1\n",
      "word None 19 1\n",
      "word None 19 1\n",
      "word None 19 1\n",
      "word None 19 1\n",
      "word None 19 1\n",
      "word None 19 1\n",
      "word None 21 6\n",
      "word None 21 6\n",
      "word None 21 6\n",
      "word None 21 6\n",
      "word None 21 6\n",
      "word None 21 6\n",
      "word None 21 6\n",
      "word None 21 6\n",
      "word None 21 6\n",
      "word None 21 6\n",
      "word None 21 6\n",
      "word None 21 6\n",
      "word None 21 6\n",
      "word None 21 6\n",
      "finishing None True\n",
      "finishing None True\n",
      "finishing None True\n",
      "finishing None True\n",
      "finishing None True\n",
      "finishing None True\n",
      "finishing None True\n",
      "finishing None True\n",
      "finishing None True\n",
      "finishing None True\n",
      "finishing None True\n",
      "finishing None True\n",
      "finishing None True\n",
      "finishing None True\n"
     ]
    },
    {
     "data": {
      "text/plain": [
       "(0.68740714, True)"
      ]
     },
     "execution_count": 29,
     "metadata": {},
     "output_type": "execute_result"
    }
   ],
   "source": [
    "verify(\"images/ex2.jpg\", \"a r rahman\", database, face_recog_model)"
   ]
  },
  {
   "cell_type": "code",
   "execution_count": 30,
   "metadata": {},
   "outputs": [
    {
     "name": "stdout",
     "output_type": "stream",
     "text": [
      "It's sanjeev, welcome home!\n",
      "word None 0 7\n",
      "word None 0 7\n",
      "word None 0 7\n",
      "word None 0 7\n",
      "word None 0 7\n",
      "word None 0 7\n",
      "word None 0 7\n",
      "word None 0 7\n",
      "word None 0 7\n",
      "word None 0 7\n",
      "word None 0 7\n",
      "word None 0 7\n",
      "word None 0 7\n",
      "word None 0 7\n",
      "word None 0 7\n",
      "word None 8 4\n",
      "word None 8 4\n",
      "word None 8 4\n",
      "word None 8 4\n",
      "word None 8 4\n",
      "word None 8 4\n",
      "word None 8 4\n",
      "word None 8 4\n",
      "word None 8 4\n",
      "word None 8 4\n",
      "word None 8 4\n",
      "word None 8 4\n",
      "word None 8 4\n",
      "word None 8 4\n",
      "word None 8 4\n",
      "word None 13 11\n",
      "word None 13 11\n",
      "word None 13 11\n",
      "word None 13 11\n",
      "word None 13 11\n",
      "word None 13 11\n",
      "word None 13 11\n",
      "word None 13 11\n",
      "word None 13 11\n",
      "word None 13 11\n",
      "word None 13 11\n",
      "word None 13 11\n",
      "word None 13 11\n",
      "word None 13 11\n",
      "word None 13 11\n",
      "finishing None True\n",
      "finishing None True\n",
      "finishing None True\n",
      "finishing None True\n",
      "finishing None True\n",
      "finishing None True\n",
      "finishing None True\n",
      "finishing None True\n",
      "finishing None True\n",
      "finishing None True\n",
      "finishing None True\n",
      "finishing None True\n",
      "finishing None True\n",
      "finishing None True\n",
      "finishing None True\n"
     ]
    },
    {
     "data": {
      "text/plain": [
       "(0.4599099, True)"
      ]
     },
     "execution_count": 30,
     "metadata": {},
     "output_type": "execute_result"
    }
   ],
   "source": [
    "verify(\"images/ex3.jpg\", \"sanjeev\", database, face_recog_model)"
   ]
  },
  {
   "cell_type": "code",
   "execution_count": 31,
   "metadata": {},
   "outputs": [],
   "source": [
    "def recog(image_path, database, model):\n",
    "    \n",
    "    ## Step 1: Compute the target \"encoding\" for the image. Use img_to_encoding() see example above. ## (≈ 1 line)\n",
    "    encoding = img_to_encoding(image_path, model)\n",
    "    \n",
    "    ## Step 2: Find the closest encoding ##\n",
    "    \n",
    "    # Initialize \"min_dist\" to a large value, say 100 (≈1 line)\n",
    "    min_dist = 100\n",
    "    \n",
    "    # Loop over the database dictionary's names and encodings.\n",
    "    for (name, db_enc) in database.items():\n",
    "        \n",
    "        # Compute L2 distance between the target \"encoding\" and the current \"emb\" from the database. (≈ 1 line)\n",
    "        dist = np.linalg.norm(encoding - db_enc)\n",
    "\n",
    "        # If this distance is less than the min_dist, then set min_dist to dist, and identity to name. (≈ 3 lines)\n",
    "        if dist < min_dist:\n",
    "            min_dist = dist\n",
    "            identity = name\n",
    "\n",
    "\n",
    "    \n",
    "    if min_dist > 0.95:\n",
    "        print(\"Not in the database.\")\n",
    "        engine.connect('started-utterance', onStart) \n",
    "        engine.connect('started-word', onWord) \n",
    "        engine.connect('finished-utterance', onEnd) \n",
    "        sen = \"Not in the database.\";\n",
    "        engine.say(sen)\n",
    "        engine.runAndWait()\n",
    "    else:\n",
    "        print (\"it's \" + str(identity) + \", the distance is \" + str(min_dist))\n",
    "        engine.connect('started-utterance', onStart) \n",
    "        engine.connect('started-word', onWord) \n",
    "        engine.connect('finished-utterance', onEnd) \n",
    "        sen = \"Welcome back home\"+ str(identity);\n",
    "        engine.say(sen)\n",
    "        engine.runAndWait()\n",
    "        \n",
    "    return min_dist, identity"
   ]
  },
  {
   "cell_type": "code",
   "execution_count": 32,
   "metadata": {},
   "outputs": [
    {
     "name": "stdout",
     "output_type": "stream",
     "text": [
      "it's aishwarya rai, the distance is 0.41985664\n",
      "word None 0 7\n",
      "word None 0 7\n",
      "word None 0 7\n",
      "word None 0 7\n",
      "word None 0 7\n",
      "word None 0 7\n",
      "word None 0 7\n",
      "word None 0 7\n",
      "word None 0 7\n",
      "word None 0 7\n",
      "word None 0 7\n",
      "word None 0 7\n",
      "word None 0 7\n",
      "word None 0 7\n",
      "word None 0 7\n",
      "word None 0 7\n",
      "word None 8 4\n",
      "word None 8 4\n",
      "word None 8 4\n",
      "word None 8 4\n",
      "word None 8 4\n",
      "word None 8 4\n",
      "word None 8 4\n",
      "word None 8 4\n",
      "word None 8 4\n",
      "word None 8 4\n",
      "word None 8 4\n",
      "word None 8 4\n",
      "word None 8 4\n",
      "word None 8 4\n",
      "word None 8 4\n",
      "word None 8 4\n",
      "word None 13 13\n",
      "word None 13 13\n",
      "word None 13 13\n",
      "word None 13 13\n",
      "word None 13 13\n",
      "word None 13 13\n",
      "word None 13 13\n",
      "word None 13 13\n",
      "word None 13 13\n",
      "word None 13 13\n",
      "word None 13 13\n",
      "word None 13 13\n",
      "word None 13 13\n",
      "word None 13 13\n",
      "word None 13 13\n",
      "word None 13 13\n",
      "word None 27 3\n",
      "word None 27 3\n",
      "word None 27 3\n",
      "word None 27 3\n",
      "word None 27 3\n",
      "word None 27 3\n",
      "word None 27 3\n",
      "word None 27 3\n",
      "word None 27 3\n",
      "word None 27 3\n",
      "word None 27 3\n",
      "word None 27 3\n",
      "word None 27 3\n",
      "word None 27 3\n",
      "word None 27 3\n",
      "word None 27 3\n",
      "finishing None True\n",
      "finishing None True\n",
      "finishing None True\n",
      "finishing None True\n",
      "finishing None True\n",
      "finishing None True\n",
      "finishing None True\n",
      "finishing None True\n",
      "finishing None True\n",
      "finishing None True\n",
      "finishing None True\n",
      "finishing None True\n",
      "finishing None True\n",
      "finishing None True\n",
      "finishing None True\n",
      "finishing None True\n"
     ]
    },
    {
     "data": {
      "text/plain": [
       "(0.41985664, 'aishwarya rai')"
      ]
     },
     "execution_count": 32,
     "metadata": {},
     "output_type": "execute_result"
    }
   ],
   "source": [
    "recog(\"images/ex1.jpg\", database, face_recog_model)"
   ]
  },
  {
   "cell_type": "code",
   "execution_count": 33,
   "metadata": {},
   "outputs": [
    {
     "name": "stdout",
     "output_type": "stream",
     "text": [
      "it's aishwarya rai, the distance is 0.6103996\n",
      "word None 0 7\n",
      "word None 0 7\n",
      "word None 0 7\n",
      "word None 0 7\n",
      "word None 0 7\n",
      "word None 0 7\n",
      "word None 0 7\n",
      "word None 0 7\n",
      "word None 0 7\n",
      "word None 0 7\n",
      "word None 0 7\n",
      "word None 0 7\n",
      "word None 0 7\n",
      "word None 0 7\n",
      "word None 0 7\n",
      "word None 0 7\n",
      "word None 0 7\n",
      "word None 8 4\n",
      "word None 8 4\n",
      "word None 8 4\n",
      "word None 8 4\n",
      "word None 8 4\n",
      "word None 8 4\n",
      "word None 8 4\n",
      "word None 8 4\n",
      "word None 8 4\n",
      "word None 8 4\n",
      "word None 8 4\n",
      "word None 8 4\n",
      "word None 8 4\n",
      "word None 8 4\n",
      "word None 8 4\n",
      "word None 8 4\n",
      "word None 8 4\n",
      "word None 13 13\n",
      "word None 13 13\n",
      "word None 13 13\n",
      "word None 13 13\n",
      "word None 13 13\n",
      "word None 13 13\n",
      "word None 13 13\n",
      "word None 13 13\n",
      "word None 13 13\n",
      "word None 13 13\n",
      "word None 13 13\n",
      "word None 13 13\n",
      "word None 13 13\n",
      "word None 13 13\n",
      "word None 13 13\n",
      "word None 13 13\n",
      "word None 13 13\n",
      "word None 27 3\n",
      "word None 27 3\n",
      "word None 27 3\n",
      "word None 27 3\n",
      "word None 27 3\n",
      "word None 27 3\n",
      "word None 27 3\n",
      "word None 27 3\n",
      "word None 27 3\n",
      "word None 27 3\n",
      "word None 27 3\n",
      "word None 27 3\n",
      "word None 27 3\n",
      "word None 27 3\n",
      "word None 27 3\n",
      "word None 27 3\n",
      "word None 27 3\n",
      "finishing None True\n",
      "finishing None True\n",
      "finishing None True\n",
      "finishing None True\n",
      "finishing None True\n",
      "finishing None True\n",
      "finishing None True\n",
      "finishing None True\n",
      "finishing None True\n",
      "finishing None True\n",
      "finishing None True\n",
      "finishing None True\n",
      "finishing None True\n",
      "finishing None True\n",
      "finishing None True\n",
      "finishing None True\n",
      "finishing None True\n"
     ]
    },
    {
     "data": {
      "text/plain": [
       "(0.6103996, 'aishwarya rai')"
      ]
     },
     "execution_count": 33,
     "metadata": {},
     "output_type": "execute_result"
    }
   ],
   "source": [
    "recog(\"images/ex2.jpg\", database, face_recog_model)"
   ]
  },
  {
   "cell_type": "code",
   "execution_count": 34,
   "metadata": {},
   "outputs": [
    {
     "name": "stdout",
     "output_type": "stream",
     "text": [
      "it's sanjeev, the distance is 0.4599099\n",
      "word None 0 7\n",
      "word None 0 7\n",
      "word None 0 7\n",
      "word None 0 7\n",
      "word None 0 7\n",
      "word None 0 7\n",
      "word None 0 7\n",
      "word None 0 7\n",
      "word None 0 7\n",
      "word None 0 7\n",
      "word None 0 7\n",
      "word None 0 7\n",
      "word None 0 7\n",
      "word None 0 7\n",
      "word None 0 7\n",
      "word None 0 7\n",
      "word None 0 7\n",
      "word None 0 7\n",
      "word None 8 4\n",
      "word None 8 4\n",
      "word None 8 4\n",
      "word None 8 4\n",
      "word None 8 4\n",
      "word None 8 4\n",
      "word None 8 4\n",
      "word None 8 4\n",
      "word None 8 4\n",
      "word None 8 4\n",
      "word None 8 4\n",
      "word None 8 4\n",
      "word None 8 4\n",
      "word None 8 4\n",
      "word None 8 4\n",
      "word None 8 4\n",
      "word None 8 4\n",
      "word None 8 4\n",
      "word None 13 11\n",
      "word None 13 11\n",
      "word None 13 11\n",
      "word None 13 11\n",
      "word None 13 11\n",
      "word None 13 11\n",
      "word None 13 11\n",
      "word None 13 11\n",
      "word None 13 11\n",
      "word None 13 11\n",
      "word None 13 11\n",
      "word None 13 11\n",
      "word None 13 11\n",
      "word None 13 11\n",
      "word None 13 11\n",
      "word None 13 11\n",
      "word None 13 11\n",
      "word None 13 11\n",
      "finishing None True\n",
      "finishing None True\n",
      "finishing None True\n",
      "finishing None True\n",
      "finishing None True\n",
      "finishing None True\n",
      "finishing None True\n",
      "finishing None True\n",
      "finishing None True\n",
      "finishing None True\n",
      "finishing None True\n",
      "finishing None True\n",
      "finishing None True\n",
      "finishing None True\n",
      "finishing None True\n",
      "finishing None True\n",
      "finishing None True\n",
      "finishing None True\n"
     ]
    },
    {
     "data": {
      "text/plain": [
       "(0.4599099, 'sanjeev')"
      ]
     },
     "execution_count": 34,
     "metadata": {},
     "output_type": "execute_result"
    }
   ],
   "source": [
    "recog(\"images/ex3.jpg\", database, face_recog_model)"
   ]
  },
  {
   "cell_type": "code",
   "execution_count": null,
   "metadata": {},
   "outputs": [],
   "source": []
  }
 ],
 "metadata": {
  "coursera": {
   "course_slug": "convolutional-neural-networks",
   "graded_item_id": "IaknP",
   "launcher_item_id": "5UMr4"
  },
  "kernelspec": {
   "display_name": "Python 3",
   "language": "python",
   "name": "python3"
  },
  "language_info": {
   "codemirror_mode": {
    "name": "ipython",
    "version": 3
   },
   "file_extension": ".py",
   "mimetype": "text/x-python",
   "name": "python",
   "nbconvert_exporter": "python",
   "pygments_lexer": "ipython3",
   "version": "3.6.4"
  }
 },
 "nbformat": 4,
 "nbformat_minor": 2
}
